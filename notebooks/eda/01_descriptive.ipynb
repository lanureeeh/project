{
  "cells": [
   {
    "cell_type": "markdown",
    "metadata": {},
    "source": [
     "# Economic Indicators Exploratory Data Analysis\n",
     "\n",
     "This notebook contains descriptive analysis of the panel dataset for Latin American countries from 2003-2023."
    ]
   },
   {
    "cell_type": "code",
    "execution_count": null,
    "metadata": {},
    "source": [
     "# Import necessary libraries\n",
     "import pandas as pd\n",
     "import numpy as np\n",
     "import matplotlib.pyplot as plt\n",
     "import seaborn as sns\n",
     "\n",
     "# Set plot styles\n",
     "plt.style.use('seaborn-v0_8-whitegrid')\n",
     "sns.set_palette('Set2')\n",
     "\n",
     "# Import custom helper functions\n",
     "from src.utils.helpers import plot_missing"
    ]
   },
   {
    "cell_type": "markdown",
    "metadata": {},
    "source": [
     "## Load the panel dataset"
    ]
   },
   {
    "cell_type": "code",
    "execution_count": null,
    "metadata": {},
    "source": [
     "# Load the processed panel dataset\n",
     "panel = pd.read_csv(\"../../data/processed/panel_2003_2023.csv\")\n",
     "\n",
     "# Display basic information\n",
     "print(f\"Dataset shape: {panel.shape}\")\n",
     "panel.head()"
    ]
   },
   {
    "cell_type": "markdown",
    "metadata": {},
    "source": [
     "## Missing Data Analysis\n",
     "\n",
     "Let's examine missing data in our poverty indicators. The visualization will color differently the two poverty line variables:\n",
     "- `lnpovhead`: Poverty headcount ratio at $3.65 a day (2017 PPP)\n",
     "- `lnpovhead215`: Poverty headcount ratio at $2.15 a day (2017 PPP)"
    ]
   },
   {
    "cell_type": "code",
    "execution_count": null,
    "metadata": {},
    "source": [
     "# Visualize missing data for poverty variables\n",
     "# Note: There might be 'ISO3' columns instead of 'Country' in the dataset\n",
     "# Using the column name from the prompt\n",
     "plot_missing(panel[['ISO3', 'Year', 'lnpovhead', 'lnpovhead215']],\n",
     "             \"../../reports/figures/missing_poverty.png\")\n",
     "\n",
     "# Display the image in the notebook\n",
     "from IPython.display import Image\n",
     "Image(\"../../reports/figures/missing_poverty.png\")"
    ]
   },
   {
    "cell_type": "markdown",
    "metadata": {},
    "source": [
     "## Overall Missing Data"
    ]
   },
   {
    "cell_type": "code",
    "execution_count": null,
    "metadata": {},
    "source": [
     "# Visualize missing data for all variables\n",
     "plot_missing(panel, \"../../reports/figures/missing_all.png\")\n",
     "\n",
     "# Display the image in the notebook\n",
     "Image(\"../../reports/figures/missing_all.png\")"
    ]
   },
   {
    "cell_type": "markdown",
    "metadata": {},
    "source": [
     "## Summary Statistics"
    ]
   },
   {
    "cell_type": "code",
    "execution_count": null,
    "metadata": {},
    "source": [
     "# Generate summary statistics\n",
     "panel.describe()"
    ]
   },
   {
    "cell_type": "markdown",
    "metadata": {},
    "source": [
     "## Distribution of Key Variables"
    ]
   },
   {
    "cell_type": "code",
    "execution_count": null,
    "metadata": {},
    "source": [
     "# Plot histograms for key variables\n",
     "numeric_cols = panel.select_dtypes(include=[np.number]).columns.tolist()\n",
     "numeric_cols = [col for col in numeric_cols if col != 'Year']\n",
     "\n",
     "fig, axes = plt.subplots(nrows=len(numeric_cols)//2 + len(numeric_cols)%2, ncols=2, figsize=(14, 3*len(numeric_cols)//2))\n",
     "axes = axes.flatten()\n",
     "\n",
     "for i, col in enumerate(numeric_cols):\n",
     "    sns.histplot(panel[col].dropna(), kde=True, ax=axes[i])\n",
     "    axes[i].set_title(f'Distribution of {col}')\n",
     "    \n",
     "plt.tight_layout()\n",
     "plt.savefig(\"../../reports/figures/variable_distributions.png\", dpi=300, bbox_inches='tight')\n",
     "plt.show()"
    ]
   }
  ],
  "metadata": {
   "kernelspec": {
    "display_name": "Python 3",
    "language": "python",
    "name": "python3"
   },
   "language_info": {
    "codemirror_mode": {
     "name": "ipython",
     "version": 3
    },
    "file_extension": ".py",
    "mimetype": "text/x-python",
    "name": "python",
    "nbconvert_exporter": "python",
    "pygments_lexer": "ipython3",
    "version": "3.11.0"
   }
  },
  "nbformat": 4,
  "nbformat_minor": 4
 }