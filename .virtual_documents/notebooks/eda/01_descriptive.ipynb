


# Import necessary libraries
import pandas as pd
import numpy as np
import matplotlib.pyplot as plt
import seaborn as sns

# Set plot styles
plt.style.use('seaborn-v0_8-whitegrid')
sns.set_palette('Set2')

# Import custom helper functions
import sys
sys.path.append("../project/src/utils")
from helpers import plot_missing





# Load the processed panel dataset
panel = pd.read_csv("../../data/processed/panel_2003_2023.csv")

# Display basic information
print(f"Dataset shape: {panel.shape}")
panel.head()





# Visualize missing data for 'lnpovhead'
plot_missing(panel[['Country', 'Year', 'lnpovhead215']],
             "../../reports/figures/missing_poverty_lnpovhead215.png")

# Display the image in the notebook
from IPython.display import Image
Image("../../reports/figures/missing_poverty_lnpovhead215.png")





# Visualize missing data for all variables
plot_missing(panel, "../../reports/figures/missing_all.png")

# Define the image paths excluding 'Year' and 'Country' columns
numeric_cols = [col for col in panel.select_dtypes(include=[np.number]).columns if col not in ['Year']]
image_paths = [f"../../reports/figures/missing_all_{col}.png" for col in numeric_cols]
# Display all the images in the notebook
for path in image_paths:
    display(Image(path))





# Generate summary statistics
panel.describe()





# Plot histograms for key variables
numeric_cols = panel.select_dtypes(include=[np.number]).columns.tolist()
numeric_cols = [col for col in numeric_cols if col != 'Year']

fig, axes = plt.subplots(nrows=len(numeric_cols)//2 + len(numeric_cols)%2, ncols=2, figsize=(14, 3*len(numeric_cols)//2))
axes = axes.flatten()

for i, col in enumerate(numeric_cols):
    sns.histplot(panel[col].dropna(), kde=True, ax=axes[i])
    axes[i].set_title(f'Distribution of {col}')
    
plt.tight_layout()
plt.savefig("../../reports/figures/variable_distributions.png", dpi=300, bbox_inches='tight')
plt.show()
