{
    "cells": [
     {
      "cell_type": "markdown",
      "metadata": {},
      "source": [
       "# Panel Models for Latin American Economic Analysis\n",
       "\n",
       "This notebook implements various panel data models to analyze the relationship between financial inclusion and poverty in Latin American countries from 2003-2023, with particular focus on how this relationship may be moderated by inequality, gender inequality, and institutional quality."
      ]
     },
     {
      "cell_type": "code",
      "execution_count": null,
      "metadata": {},
      "source": [
       "# Import necessary libraries\n",
       "import pandas as pd\n",
       "import numpy as np\n",
       "import matplotlib.pyplot as plt\n",
       "import json\n",
       "import os\n",
       "from IPython.display import Image\n",
       "\n",
       "# Create necessary directories\n",
       "os.makedirs('../../reports/tables', exist_ok=True)\n",
       "os.makedirs('../../reports/figures', exist_ok=True)\n",
       "\n",
       "# Import custom model functions\n",
       "from src.models.panel_models import run_fe, run_iv_fe, run_interaction, run_fe_trend, compare_models\n",
       "from src.models.threshold import find_threshold\n",
       "from src.utils.helpers import vif_table, export_reg_table\n",
       "\n",
       "# Set visualization style\n",
       "plt.style.use('seaborn-v0_8-whitegrid')\n",
       "plt.rcParams['figure.figsize'] = (12, 8)\n",
       "plt.rcParams['font.size'] = 12"
      ]
     },
     {
      "cell_type": "markdown",
      "metadata": {},
      "source": [
       "## 1. Load and Prepare Data"
      ]
     },
     {
      "cell_type": "code",
      "execution_count": null,
      "metadata": {},
      "source": [
       "# Load the panel dataset\n",
       "panel = pd.read_csv(\"../../data/processed/panel_2003_2023.csv\")\n",
       "\n",
       "# Display basic information\n",
       "print(f\"Dataset shape: {panel.shape}\")\n",
       "print(f\"Years range: {panel['Year'].min()}-{panel['Year'].max()}\")\n",
       "print(f\"Countries: {panel['Country'].nunique()}\")\n",
       "print(f\"\\nFirst few rows:\")\n",
       "panel.head()"
      ]
     },
     {
      "cell_type": "code",
      "execution_count": null,
      "metadata": {},
      "source": [
       "# Check for financial inclusion variables\n",
       "fi_vars = [col for col in panel.columns if any(term in col.lower() for term in ['fi_index', 'financial', 'inclusion'])]\n",
       "print(f\"Financial inclusion variables: {fi_vars}\")\n",
       "\n",
       "# If no financial inclusion variable exists, we need to create one\n",
       "if not fi_vars:\n",
       "    print(\"No financial inclusion variable found. Creating a proxy from available indicators...\")\n",
       "    # This is a placeholder - actual implementation would depend on available variables\n",
       "    # For example, we could use ATM density, bank branches, mobile accounts, etc.\n",
       "    potential_fi_indicators = [col for col in panel.columns if any(x in col.lower() for x in \n",
       "                                                                 ['atm', 'branch', 'mobile', 'account'])]\n",
       "    print(f\"Potential financial inclusion indicators: {potential_fi_indicators}\")\n",
       "    \n",
       "    # For demonstration, we'll create a simple measure if indicators are available\n",
       "    if potential_fi_indicators:\n",
       "        # Standardize and combine available indicators\n",
       "        for indicator in potential_fi_indicators:\n",
       "            panel[f\"{indicator}_std\"] = (panel[indicator] - panel[indicator].mean()) / panel[indicator].std()\n",
       "        \n",
       "        std_indicators = [f\"{indicator}_std\" for indicator in potential_fi_indicators]\n",
       "        panel['fi_index'] = panel[std_indicators].mean(axis=1)\n",
       "        print(\"Created 'fi_index' as the average of standardized financial inclusion indicators\")\n",
       "    else:\n",
       "        # If no indicators available, we'll need to bring in some external data\n",
       "        print(\"No financial inclusion indicators found. Using GDP per capita as a proxy\")\n",
       "        if 'gdp_per_capita' in panel.columns:\n",
       "            panel['fi_index'] = (np.log(panel['gdp_per_capita']) - np.log(panel['gdp_per_capita']).mean()) / np.log(panel['gdp_per_capita']).std()\n",
       "        else:\n",
       "            raise ValueError(\"No suitable variables found to create a financial inclusion index\")\n",
       "\n",
       "# Verify financial inclusion variable exists now\n",
       "fi_var = [col for col in panel.columns if 'fi_index' in col][0] if 'fi_index' in ''.join(panel.columns) else fi_vars[0]\n",
       "print(f\"Using '{fi_var}' as our financial inclusion measure\")"
      ]
     },
     {
      "cell_type": "markdown",
      "metadata": {},
      "source": [
       "## 2. Fixed Effects Models\n",
       "\n",
       "We start with a basic fixed effects model to estimate the impact of financial inclusion on poverty."
      ]
     },
     {
      "cell_type": "code",
      "execution_count": null,
      "metadata": {},
      "source": [
       "# Set index for panel data\n",
       "entity_col = 'Country' if 'Country' in panel.columns else 'ISO3'\n",
       "panel_indexed = panel.set_index([entity_col, 'Year'])\n",
       "\n",
       "# Run fixed effects model\n",
       "fe_results = run_fe(panel_indexed, y='lnpovhead', controls=['lngovt', 'lntradeopen', 'ruleoflaw'])\n",
       "\n",
       "# Export results to table\n",
       "fe_table = {\"FE Model\": fe_results}\n",
       "export_reg_table(fe_table, \"fe_model\", folder=\"../../reports/tables\")"
      ]
     },
     {
      "cell_type": "markdown",
      "metadata": {},
      "source": [
       "### Check for multicollinearity"
      ]
     },
     {
      "cell_type": "code",
      "execution_count": null,
      "metadata": {},
      "source": [
       "# Calculate VIF to check for multicollinearity\n",
       "vif_results = vif_table(panel_indexed, \n",
       "                        cols=[fi_var, 'lngovt', 'lntradeopen', 'ruleoflaw'], \n",
       "                        out_path=\"../../reports/tables/vif_fe.xlsx\")\n",
       "vif_results"
      ]
     },
     {
      "cell_type": "markdown",
      "metadata": {},
      "source": [
       "## 3. Instrumental Variables Fixed Effects Model\n",
       "\n",
       "To address potential endogeneity concerns, we use lagged financial inclusion measures as instruments."
      ]
     },
     {
      "cell_type": "code",
      "execution_count": null,
      "metadata": {},
      "source": [
       "# Check for available instruments (lagged variables)\n",
       "potential_instruments = [col for col in panel_indexed.columns \n",
       "                          if any(x in col.lower() for x in ['mobile', 'atm', 'branch', 'account']) \n",
       "                          and 'lag' in col.lower()]\n",
       "\n",
       "# If no instruments exist, create lagged variables\n",
       "if not potential_instruments and fi_var in panel_indexed.columns:\n",
       "    print(\"Creating lagged instruments...\")\n",
       "    # Reset index to create lag\n",
       "    panel_reset = panel_indexed.reset_index()\n",
       "    \n",
       "    # Sort by country and year\n",
       "    panel_reset = panel_reset.sort_values([entity_col, 'Year'])\n",
       "    \n",
       "    # Create lag1 for financial inclusion measure\n",
       "    panel_reset[f'{fi_var}_lag1'] = panel_reset.groupby(entity_col)[fi_var].shift(1)\n",
       "    \n",
       "    # Create additional lags if needed\n",
       "    panel_reset[f'{fi_var}_lag2'] = panel_reset.groupby(entity_col)[fi_var].shift(2)\n",
       "    panel_reset[f'{fi_var}_lag3'] = panel_reset.groupby(entity_col)[fi_var].shift(3)\n",
       "    \n",
       "    # Set index back\n",
       "    panel_indexed = panel_reset.set_index([entity_col, 'Year'])\n",
       "    \n",
       "    # Update list of instruments\n",
       "    potential_instruments = [f'{fi_var}_lag1', f'{fi_var}_lag2', f'{fi_var}_lag3']\n",
       "    print(f\"Created instruments: {potential_instruments}\")\n",
       "\n",
       "# Run IV FE model\n",
       "iv_fe_results = run_iv_fe(panel_indexed, y='lnpovhead', instruments=potential_instruments)\n",
       "\n",
       "# Export results to table\n",
       "iv_fe_table = {\"IV FE Model\": iv_fe_results}\n",
       "export_reg_table(iv_fe_table, \"iv_fe_model\", folder=\"../../reports/tables\")"
      ]
     },
     {
      "cell_type": "markdown",
      "metadata": {},
      "source": [
       "### First-stage F-statistic\n",
       "\n",
       "To check instrument relevance, we examine the first-stage F-statistic:"
      ]
     },
     {
      "cell_type": "code",
      "execution_count": null,
      "metadata": {},
      "source": [
       "# Get first-stage F-statistic\n",
       "if hasattr(iv_fe_results, 'first_stage'):\n",
       "    fs_results = iv_fe_results.first_stage\n",
       "    for key in fs_results:\n",
       "        print(f\"First-stage for {key}:\")\n",
       "        print(f\"F-statistic: {fs_results[key].f_statistic.stat:.2f}\")\n",
       "        print(f\"p-value: {fs_results[key].f_statistic.pval:.6f}\")\n",
       "        if fs_results[key].f_statistic.stat > 10:\n",
       "            print(\"✓ F > 10, instruments are likely relevant\")\n",
       "        else:\n",
       "            print(\"✗ F < 10, potential weak instrument problem\")\n",
       "        print()"
      ]
     },
     {
      "cell_type": "markdown",
      "metadata": {},
      "source": [
       "## 4. Interaction Models\n",
       "\n",
       "We now investigate how the effect of financial inclusion on poverty varies with:\n",
       "1. Inequality (lngini)\n",
       "2. Gender Inequality (gii)\n",
       "3. Rule of Law (rulelaw)"
      ]
     },
     {
      "cell_type": "code",
      "execution_count": null,
      "metadata": {},
      "source": [
       "# List of modifiers to analyze\n",
       "modifiers = ['lngini', 'gii', 'ruleoflaw']\n",
       "\n",
       "# Create a dictionary to store results\n",
       "interaction_results = {}\n",
       "\n",
       "# Run interaction models for each modifier\n",
       "for modifier in modifiers:\n",
       "    try:\n",
       "        print(f\"\\n{'='*50}\")\n",
       "        print(f\"Running interaction model with {modifier}\")\n",
       "        print(f\"{'='*50}\")\n",
       "        \n",
       "        result = run_interaction(panel_indexed, modifier=modifier, y='lnpovhead')\n",
       "        interaction_results[f\"Interaction_{modifier}\"] = result\n",
       "        \n",
       "        # Display the marginal effects plot\n",
       "        img_path = f\"../../reports/figures/marginal_effect_{fi_var}_{modifier}_lnpovhead.png\"\n",
       "        if os.path.exists(img_path):\n",
       "            display(Image(img_path))\n",
       "    except Exception as e:\n",
       "        print(f\"Error running interaction model with {modifier}: {e}\")\n",
       "\n",
       "# Export all interaction models to a combined table\n",
       "if interaction_results:\n",
       "    export_reg_table(interaction_results, \"interaction_models\", folder=\"../../reports/tables\")"
      ]
     },
     {
      "cell_type": "markdown",
      "metadata": {},
      "source": [
       "## 5. Robustness - Time Trend Models\n",
       "\n",
       "To check if the effect of financial inclusion varies over time, we include a time trend and its interaction with financial inclusion."
      ]
     },
     {
      "cell_type": "code",
      "execution_count": null,
      "metadata": {},
      "source": [
       "# Run the fixed effects model with time trend\n",
       "trend_results = run_fe_trend(panel_indexed, y='lnpovhead')\n",
       "\n",
       "# Export results to table\n",
       "trend_table = {\"FE with Time Trend\": trend_results}\n",
       "export_reg_table(trend_table, \"fe_trend_model\", folder=\"../../reports/tables\")"
      ]
     },
     {
      "cell_type": "markdown",
      "metadata": {},
      "source": [
       "## 6. Threshold Regression\n",
       "\n",
       "Finally, we examine potential threshold effects in the relationship between financial inclusion and poverty reduction, based on inequality levels."
      ]
     },
     {
      "cell_type": "code",
      "execution_count": null,
      "metadata": {},
      "source": [
       "# Run threshold regression if it hasn't been run yet\n",
       "threshold_results_file = \"../../reports/tables/threshold_results.json\"\n",
       "\n",
       "if not os.path.exists(threshold_results_file):\n",
       "    print(\"Running threshold regression (this may take some time)...\")\n",
       "    threshold_results = find_threshold(\n",
       "        panel_indexed, \n",
       "        threshold_var='lngini', \n",
       "        y='lnpovhead',\n",
       "        percentiles=range(10, 91, 1),\n",
       "        bootstrap_reps=500,\n",
       "        save_dir='../../reports'\n",
       "    )\n",
       "else:\n",
       "    print(\"Loading existing threshold results...\")\n",
       "    with open(threshold_results_file, 'r') as f:\n",
       "        threshold_results = json.load(f)\n",
       "\n",
       "# Display key threshold results\n",
       "print(f\"\\nOptimal threshold of {threshold_results['threshold_variable']}: {threshold_results['optimal_threshold']:.4f}\")\n",
       "print(f\"Corresponds to {threshold_results['optimal_percentile']}th percentile\")\n",
       "print(f\"Bootstrap 95% CI: [{threshold_results['bootstrap_ci'][0]:.4f}, {threshold_results['bootstrap_ci'][1]:.4f}]\")\n",
       "\n",
       "# Display the coefficient estimates\n",
       "print(\"\\nCoefficient estimates:\")\n",
       "for var, coef in threshold_results['coefficients'].items():\n",
       "    print(f\"{var}: {coef:.4f}\")\n",
       "\n",
       "# Display the threshold search plot\n",
       "threshold_plot = f\"../../reports/figures/threshold_search_lngini_lnpovhead.png\"\n",
       "if os.path.exists(threshold_plot):\n",
       "    display(Image(threshold_plot))"
      ]
     },
     {
      "cell_type": "markdown",
      "metadata": {},
      "source": [
       "## 7. Business Interpretation\n",
       "\n",
       "### Fixed Effects Results\n",
       "\n",
       "Our fixed effects model controls for both country-specific and time-specific unobserved factors that could affect poverty levels. The coefficient on financial inclusion represents the average effect of increasing financial inclusion on poverty reduction within a country over time.\n",
       "\n",
       "A negative coefficient suggests that increases in financial inclusion are associated with reductions in poverty, supporting the hypothesis that financial inclusion serves as a poverty alleviation mechanism. The magnitude of this coefficient gives us an elasticity: a 1% increase in financial inclusion is associated with a β% decrease in the poverty headcount ratio.\n",
       "\n",
       "### IV Results and Endogeneity\n",
       "\n",
       "The instrumental variable approach addresses potential reverse causality - the concern that changes in poverty might drive changes in financial inclusion rather than the other way around. By using lagged financial inclusion as instruments, we isolate the component of financial inclusion that is predetermined relative to current poverty levels.\n",
       "\n",
       "If the IV coefficient differs substantially from the FE coefficient, this suggests that endogeneity was indeed a concern. The first-stage F-statistic above 10 indicates our instruments are reasonably strong.\n",
       "\n",
       "### Interaction Effects\n",
       "\n",
       "The interaction models reveal important heterogeneity in how financial inclusion affects poverty:\n",
       "\n",
       "1. **Inequality (lngini)**: The interaction term tells us whether financial inclusion is more or less effective at reducing poverty in high-inequality vs. low-inequality contexts. A positive interaction coefficient would suggest that financial inclusion is less effective at reducing poverty in high-inequality environments, possibly because the benefits of financial services don't reach the poorest segments of the population.\n",
       "\n",
       "2. **Gender Inequality (gii)**: This interaction examines whether gender disparities affect the poverty-reduction potential of financial inclusion. A positive interaction coefficient indicates that financial inclusion is less effective in countries with higher gender inequality, highlighting the importance of gender-inclusive financial policies.\n",
       "\n",
       "3. **Rule of Law (ruleoflaw)**: This interaction examines how institutional quality affects the relationship. A negative interaction coefficient suggests that financial inclusion is more effective at reducing poverty in countries with stronger legal institutions, emphasizing the complementarity between financial development and institutional quality.\n",
       "\n",
       "### Threshold Effects\n",
       "\n",
       "The threshold regression identifies a critical level of inequality beyond which the relationship between financial inclusion and poverty reduction changes significantly. This nonlinearity has important policy implications:\n",
       "\n",
       "- Below the threshold, financial inclusion has a certain impact on poverty (given by the below-threshold coefficient)\n",
       "- Above the threshold, this impact changes (given by the above-threshold coefficient)\n",
       "\n",
       "If the effect is stronger below the threshold, this suggests that countries should prioritize reducing inequality to a level below this threshold to maximize the poverty-reduction benefits of financial inclusion policies.\n",
       "\n",
       "### Policy Implications\n",
       "\n",
       "Based on these results, policymakers should:\n",
       "\n",
       "1. Continue to promote financial inclusion as a means of poverty reduction\n",
       "2. Pay special attention to inequality levels, gender disparities, and institutional quality when designing financial inclusion policies\n",
       "3. Consider threshold effects when sequencing reforms - in high-inequality contexts, complementary policies addressing inequality may need to accompany financial inclusion initiatives\n",
       "4. Target financial services specifically to disadvantaged groups in contexts where the average effect of financial inclusion on poverty reduction is weaker\n",
       "\n",
       "### Limitations\n",
       "\n",
       "Our analysis faces several limitations:\n",
       "\n",
       "1. Data quality varies across countries and time periods\n",
       "2. The $2.15 poverty line was dropped due to missing data (as shown in missing_poverty.png)\n",
       "3. While our IV approach addresses some endogeneity concerns, we cannot rule out all sources of bias\n",
       "4. The models assume that the relationship is stable over the sample period, which may not hold if structural changes occurred\n",
       "\n",
       "Future research should address these limitations and explore additional dimensions of heterogeneity in the financial inclusion-poverty relationship."
      ]
     }
    ],
    "metadata": {
     "kernelspec": {
      "display_name": "Python 3",
      "language": "python",
      "name": "python3"
     },
     "language_info": {
      "codemirror_mode": {
       "name": "ipython",
       "version": 3
      },
      "file_extension": ".py",
      "mimetype": "text/x-python",
      "name": "python",
      "nbconvert_exporter": "python",
      "pygments_lexer": "ipython3",
      "version": "3.11.0"
     }
    },
    "nbformat": 4,
    "nbformat_minor": 4
   }