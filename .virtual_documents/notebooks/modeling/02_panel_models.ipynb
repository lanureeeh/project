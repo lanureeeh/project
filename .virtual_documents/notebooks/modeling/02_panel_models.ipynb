


# Import necessary libraries
import pandas as pd
import numpy as np
import matplotlib.pyplot as plt
import json
import os
from IPython.display import Image

# Create necessary directories
os.makedirs('../../reports/tables', exist_ok=True)
os.makedirs('../../reports/figures', exist_ok=True)

# Import custom model functions
from src.models.panel_models import run_fe, run_iv_fe, run_interaction, run_fe_trend, compare_models
from src.models.threshold import find_threshold
from src.utils.helpers import vif_table, export_reg_table

# Set visualization style
plt.style.use('seaborn-v0_8-whitegrid')
plt.rcParams['figure.figsize'] = (12, 8)
plt.rcParams['font.size'] = 12





# Load the panel dataset
panel = pd.read_csv("../../data/processed/panel_2003_2023.csv")

# Display basic information
print(f"Dataset shape: {panel.shape}")
print(f"Years range: {panel['Year'].min()}-{panel['Year'].max()}")
print(f"Countries: {panel['Country'].nunique()}")
print(f"\nFirst few rows:")
panel.head()


# Check for financial inclusion variables
fi_vars = [col for col in panel.columns if any(term in col.lower() for term in ['fi_index', 'financial', 'inclusion'])]
print(f"Financial inclusion variables: {fi_vars}")

# If no financial inclusion variable exists, we need to create one
if not fi_vars:
    print("No financial inclusion variable found. Creating a proxy from available indicators...")
    # This is a placeholder - actual implementation would depend on available variables
    # For example, we could use ATM density, bank branches, mobile accounts, etc.
    potential_fi_indicators = [col for col in panel.columns if any(x in col.lower() for x in 
                                                                 ['atm', 'branch', 'mobile', 'account'])]
    print(f"Potential financial inclusion indicators: {potential_fi_indicators}")
    
    # For demonstration, we'll create a simple measure if indicators are available
    if potential_fi_indicators:
        # Standardize and combine available indicators
        for indicator in potential_fi_indicators:
            panel[f"{indicator}_std"] = (panel[indicator] - panel[indicator].mean()) / panel[indicator].std()
        
        std_indicators = [f"{indicator}_std" for indicator in potential_fi_indicators]
        panel['fi_index'] = panel[std_indicators].mean(axis=1)
        print("Created 'fi_index' as the average of standardized financial inclusion indicators")
    else:
        # If no indicators available, we'll need to bring in some external data
        print("No financial inclusion indicators found. Using GDP per capita as a proxy")
        if 'gdp_per_capita' in panel.columns:
            panel['fi_index'] = (np.log(panel['gdp_per_capita']) - np.log(panel['gdp_per_capita']).mean()) / np.log(panel['gdp_per_capita']).std()
        else:
            raise ValueError("No suitable variables found to create a financial inclusion index")

# Verify financial inclusion variable exists now
fi_var = [col for col in panel.columns if 'fi_index' in col][0] if 'fi_index' in ''.join(panel.columns) else fi_vars[0]
print(f"Using '{fi_var}' as our financial inclusion measure")





# Set index for panel data
entity_col = 'Country' if 'Country' in panel.columns else 'ISO3'
panel_indexed = panel.set_index([entity_col, 'Year'])

# Run fixed effects model
fe_results = run_fe(panel_indexed, y='lnpovhead', controls=['lngovt', 'lntradeopen', 'ruleoflaw'])

# Export results to table
fe_table = {"FE Model": fe_results}
export_reg_table(fe_table, "fe_model", folder="../../reports/tables")





# Calculate VIF to check for multicollinearity
vif_results = vif_table(panel_indexed, 
                        cols=[fi_var, 'lngovt', 'lntradeopen', 'ruleoflaw'], 
                        out_path="../../reports/tables/vif_fe.xlsx")
vif_results





# Check for available instruments (lagged variables)
potential_instruments = [col for col in panel_indexed.columns 
                          if any(x in col.lower() for x in ['mobile', 'atm', 'branch', 'account']) 
                          and 'lag' in col.lower()]

# If no instruments exist, create lagged variables
if not potential_instruments and fi_var in panel_indexed.columns:
    print("Creating lagged instruments...")
    # Reset index to create lag
    panel_reset = panel_indexed.reset_index()
    
    # Sort by country and year
    panel_reset = panel_reset.sort_values([entity_col, 'Year'])
    
    # Create lag1 for financial inclusion measure
    panel_reset[f'{fi_var}_lag1'] = panel_reset.groupby(entity_col)[fi_var].shift(1)
    
    # Create additional lags if needed
    panel_reset[f'{fi_var}_lag2'] = panel_reset.groupby(entity_col)[fi_var].shift(2)
    panel_reset[f'{fi_var}_lag3'] = panel_reset.groupby(entity_col)[fi_var].shift(3)
    
    # Set index back
    panel_indexed = panel_reset.set_index([entity_col, 'Year'])
    
    # Update list of instruments
    potential_instruments = [f'{fi_var}_lag1', f'{fi_var}_lag2', f'{fi_var}_lag3']
    print(f"Created instruments: {potential_instruments}")

# Run IV FE model
iv_fe_results = run_iv_fe(panel_indexed, y='lnpovhead', instruments=potential_instruments)

# Export results to table
iv_fe_table = {"IV FE Model": iv_fe_results}
export_reg_table(iv_fe_table, "iv_fe_model", folder="../../reports/tables")





# Get first-stage F-statistic
if hasattr(iv_fe_results, 'first_stage'):
    fs_results = iv_fe_results.first_stage
    for key in fs_results:
        print(f"First-stage for {key}:")
        print(f"F-statistic: {fs_results[key].f_statistic.stat:.2f}")
        print(f"p-value: {fs_results[key].f_statistic.pval:.6f}")
        if fs_results[key].f_statistic.stat > 10:
            print("✓ F > 10, instruments are likely relevant")
        else:
            print("✗ F < 10, potential weak instrument problem")
        print()





# List of modifiers to analyze
modifiers = ['lngini', 'gii', 'ruleoflaw']

# Create a dictionary to store results
interaction_results = {}

# Run interaction models for each modifier
for modifier in modifiers:
    try:
        print(f"\n{'='*50}")
        print(f"Running interaction model with {modifier}")
        print(f"{'='*50}")
        
        result = run_interaction(panel_indexed, modifier=modifier, y='lnpovhead')
        interaction_results[f"Interaction_{modifier}"] = result
        
        # Display the marginal effects plot
        img_path = f"../../reports/figures/marginal_effect_{fi_var}_{modifier}_lnpovhead.png"
        if os.path.exists(img_path):
            display(Image(img_path))
    except Exception as e:
        print(f"Error running interaction model with {modifier}: {e}")

# Export all interaction models to a combined table
if interaction_results:
    export_reg_table(interaction_results, "interaction_models", folder="../../reports/tables")





# Run the fixed effects model with time trend
trend_results = run_fe_trend(panel_indexed, y='lnpovhead')

# Export results to table
trend_table = {"FE with Time Trend": trend_results}
export_reg_table(trend_table, "fe_trend_model", folder="../../reports/tables")





# Run threshold regression if it hasn't been run yet
threshold_results_file = "../../reports/tables/threshold_results.json"

if not os.path.exists(threshold_results_file):
    print("Running threshold regression (this may take some time)...")
    threshold_results = find_threshold(
        panel_indexed, 
        threshold_var='lngini', 
        y='lnpovhead',
        percentiles=range(10, 91, 1),
        bootstrap_reps=500,
        save_dir='../../reports'
    )
else:
    print("Loading existing threshold results...")
    with open(threshold_results_file, 'r') as f:
        threshold_results = json.load(f)

# Display key threshold results
print(f"\nOptimal threshold of {threshold_results['threshold_variable']}: {threshold_results['optimal_threshold']:.4f}")
print(f"Corresponds to {threshold_results['optimal_percentile']}th percentile")
print(f"Bootstrap 95% CI: [{threshold_results['bootstrap_ci'][0]:.4f}, {threshold_results['bootstrap_ci'][1]:.4f}]")

# Display the coefficient estimates
print("\nCoefficient estimates:")
for var, coef in threshold_results['coefficients'].items():
    print(f"{var}: {coef:.4f}")

# Display the threshold search plot
threshold_plot = f"../../reports/figures/threshold_search_lngini_lnpovhead.png"
if os.path.exists(threshold_plot):
    display(Image(threshold_plot))



